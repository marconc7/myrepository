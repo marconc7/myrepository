{
 "cells": [
  {
   "cell_type": "markdown",
   "id": "babbed18-c333-4ba6-bc70-a0236d644d55",
   "metadata": {},
   "source": [
    "Basic math operation"
   ]
  },
  {
   "cell_type": "code",
   "execution_count": 1,
   "id": "f032e7a4-4a82-4730-ab43-f008624515fc",
   "metadata": {},
   "outputs": [
    {
     "data": {
      "text/plain": [
       "6"
      ]
     },
     "execution_count": 1,
     "metadata": {},
     "output_type": "execute_result"
    }
   ],
   "source": [
    "1 + 5"
   ]
  }
 ],
 "metadata": {
  "kernelspec": {
   "display_name": "Python",
   "language": "python",
   "name": "conda-env-python-py"
  },
  "language_info": {
   "codemirror_mode": {
    "name": "ipython",
    "version": 3
   },
   "file_extension": ".py",
   "mimetype": "text/x-python",
   "name": "python",
   "nbconvert_exporter": "python",
   "pygments_lexer": "ipython3",
   "version": "3.7.12"
  }
 },
 "nbformat": 4,
 "nbformat_minor": 5
}
